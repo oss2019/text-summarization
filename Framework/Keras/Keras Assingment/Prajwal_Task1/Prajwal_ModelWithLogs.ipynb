{
 "cells": [
  {
   "cell_type": "code",
   "execution_count": 1,
   "metadata": {},
   "outputs": [
    {
     "name": "stderr",
     "output_type": "stream",
     "text": [
      "Using TensorFlow backend.\n"
     ]
    }
   ],
   "source": [
    "# Import statements\n",
    "import keras\n",
    "import numpy as np\n",
    "from keras.datasets import mnist\n",
    "from keras.models import Sequential\n",
    "from keras.layers import Dense\n",
    "from keras.utils.np_utils import to_categorical"
   ]
  },
  {
   "cell_type": "code",
   "execution_count": 2,
   "metadata": {},
   "outputs": [],
   "source": [
    "# Loading the training set and test set\n",
    "(X_train, y_train), (X_test, y_test) = mnist.load_data()"
   ]
  },
  {
   "cell_type": "code",
   "execution_count": 3,
   "metadata": {},
   "outputs": [],
   "source": [
    "# Normalizing the data\n",
    "X_train = (X_train-X_train.mean())/(X_train.max()-X_train.min())\n",
    "X_test = (X_test-X_test.mean())/(X_test.max()-X_test.min())"
   ]
  },
  {
   "cell_type": "code",
   "execution_count": 4,
   "metadata": {},
   "outputs": [],
   "source": [
    "# Reshaping the data\n",
    "X_train = X_train.reshape(X_train.shape[0],784)\n",
    "X_test = X_test.reshape(X_test.shape[0],784)"
   ]
  },
  {
   "cell_type": "code",
   "execution_count": 5,
   "metadata": {},
   "outputs": [],
   "source": [
    "# Hot encoding the data\n",
    "y_train = to_categorical(y_train)\n",
    "y_test = to_categorical(y_test)"
   ]
  },
  {
   "cell_type": "code",
   "execution_count": 6,
   "metadata": {},
   "outputs": [],
   "source": [
    "# Initializing the model\n",
    "model = Sequential()\n",
    "# Adding a hidden layer of 512 size\n",
    "model.add(Dense(512, input_dim=784, activation='relu'))\n",
    "# Adding an output layer of 10 size\n",
    "model.add(Dense(10, activation='softmax'))"
   ]
  },
  {
   "cell_type": "code",
   "execution_count": 7,
   "metadata": {},
   "outputs": [],
   "source": [
    "# Compiling the model\n",
    "model.compile(optimizer='adam',loss='categorical_crossentropy',metrics=['accuracy'])"
   ]
  },
  {
   "cell_type": "code",
   "execution_count": 8,
   "metadata": {},
   "outputs": [
    {
     "name": "stdout",
     "output_type": "stream",
     "text": [
      "Epoch 1/10\n",
      "60000/60000 [==============================] - 17s 288us/step - loss: 0.2044 - acc: 0.9396\n",
      "Epoch 2/10\n",
      "60000/60000 [==============================] - 16s 274us/step - loss: 0.0821 - acc: 0.9748\n",
      "Epoch 3/10\n",
      "60000/60000 [==============================] - 17s 282us/step - loss: 0.0558 - acc: 0.9820\n",
      "Epoch 4/10\n",
      "60000/60000 [==============================] - 17s 282us/step - loss: 0.0407 - acc: 0.9867\n",
      "Epoch 5/10\n",
      "60000/60000 [==============================] - 17s 284us/step - loss: 0.0293 - acc: 0.9905\n",
      "Epoch 6/10\n",
      "60000/60000 [==============================] - 17s 284us/step - loss: 0.0254 - acc: 0.9914\n",
      "Epoch 7/10\n",
      "60000/60000 [==============================] - 17s 283us/step - loss: 0.0204 - acc: 0.9934\n",
      "Epoch 8/10\n",
      "60000/60000 [==============================] - 17s 290us/step - loss: 0.0187 - acc: 0.9938\n",
      "Epoch 9/10\n",
      "60000/60000 [==============================] - 17s 288us/step - loss: 0.0139 - acc: 0.9951\n",
      "Epoch 10/10\n",
      "60000/60000 [==============================] - 17s 290us/step - loss: 0.0137 - acc: 0.9955\n"
     ]
    },
    {
     "data": {
      "text/plain": [
       "<keras.callbacks.History at 0x7fe3b63ab9e8>"
      ]
     },
     "execution_count": 8,
     "metadata": {},
     "output_type": "execute_result"
    }
   ],
   "source": [
    "# Fitting the model\n",
    "model.fit(X_train, y_train, epochs=10, batch_size=32)"
   ]
  },
  {
   "cell_type": "code",
   "execution_count": 9,
   "metadata": {},
   "outputs": [
    {
     "name": "stdout",
     "output_type": "stream",
     "text": [
      "10000/10000 [==============================] - 1s 61us/step\n",
      "Loss =  0.08458407581392612\n",
      "Accuracy =  0.9801\n"
     ]
    }
   ],
   "source": [
    "# Evaluating the model\n",
    "loss, acc = model.evaluate(X_test, y_test)\n",
    "print(\"Loss = \", loss)\n",
    "print(\"Accuracy = \", acc)"
   ]
  },
  {
   "cell_type": "code",
   "execution_count": null,
   "metadata": {},
   "outputs": [],
   "source": []
  }
 ],
 "metadata": {
  "kernelspec": {
   "display_name": "Python 3",
   "language": "python",
   "name": "python3"
  },
  "language_info": {
   "codemirror_mode": {
    "name": "ipython",
    "version": 3
   },
   "file_extension": ".py",
   "mimetype": "text/x-python",
   "name": "python",
   "nbconvert_exporter": "python",
   "pygments_lexer": "ipython3",
   "version": "3.7.3"
  }
 },
 "nbformat": 4,
 "nbformat_minor": 2
}
